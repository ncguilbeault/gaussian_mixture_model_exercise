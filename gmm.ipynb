{
 "cells": [
  {
   "cell_type": "code",
   "execution_count": 1,
   "id": "f8d00c7d",
   "metadata": {},
   "outputs": [],
   "source": [
    "import matplotlib.pyplot as plt\n",
    "import numpy as np\n",
    "from numpy.random import default_rng"
   ]
  },
  {
   "cell_type": "code",
   "execution_count": 2,
   "id": "cb49fc88",
   "metadata": {},
   "outputs": [],
   "source": [
    "# Initialize RNG for reproducibility\n",
    "rng = default_rng(seed=42)"
   ]
  },
  {
   "cell_type": "code",
   "execution_count": 3,
   "id": "bf395f2e",
   "metadata": {},
   "outputs": [
    {
     "name": "stdout",
     "output_type": "stream",
     "text": [
      "Ground Truth Templates:\n"
     ]
    },
    {
     "data": {
      "image/png": "[encoded data removed]",
      "text/plain": [
       "<Figure size 640x480 with 3 Axes>"
      ]
     },
     "metadata": {},
     "output_type": "display_data"
    }
   ],
   "source": [
    "# Create templates\n",
    "templates = []\n",
    "\n",
    "template1 = np.array([\n",
    "    [1, 1, 1, 1],\n",
    "    [0, 0, 0, 0],\n",
    "    [0, 0, 0, 0],\n",
    "    [0, 0, 0, 0]\n",
    "])\n",
    "\n",
    "template2 = np.array([\n",
    "    [0, 0, 0, 0],\n",
    "    [0, 1, 1, 1],\n",
    "    [0, 1, 1, 1],\n",
    "    [0, 1, 1, 1]\n",
    "])\n",
    "\n",
    "template3 = np.array([\n",
    "    [0, 1, 0, 0],\n",
    "    [1, 1, 1, 0],\n",
    "    [0, 1, 0, 0],\n",
    "    [0, 0, 0, 0]\n",
    "])\n",
    "\n",
    "templates = np.array([template1, template2, template3])\n",
    "templates_flat = templates.reshape(3, -1)\n",
    "\n",
    "print(\"Ground Truth Templates:\")\n",
    "# Plot the original templates\n",
    "fig, axs = plt.subplots(1, 3)\n",
    "for i, template in enumerate(templates):\n",
    "    axs[i].imshow(template, cmap = \"gray\", origin=\"lower\")\n",
    "plt.show()"
   ]
  },
  {
   "cell_type": "code",
   "execution_count": 4,
   "id": "cae89861",
   "metadata": {},
   "outputs": [
    {
     "name": "stdout",
     "output_type": "stream",
     "text": [
      "Random Samples from Dataset:\n"
     ]
    },
    {
     "data": {
      "image/png": "[encoded data removed]",
      "text/plain": [
       "<Figure size 640x480 with 25 Axes>"
      ]
     },
     "metadata": {},
     "output_type": "display_data"
    }
   ],
   "source": [
    "# Create a dataset\n",
    "size = 10000\n",
    "pi_true = np.ones(templates_flat.shape[0]) / templates_flat.shape[0]\n",
    "z = rng.choice(3, size=size, p=pi_true)\n",
    "means = templates_flat[z]\n",
    "rand_noise = rng.random((size, templates.shape[1] * templates.shape[2]))\n",
    "dataset = means + rand_noise\n",
    "N, D = dataset.shape\n",
    "\n",
    "print(\"Random Samples from Dataset:\")\n",
    "# Plot a random selection of 25 datapoints from the dataset\n",
    "fig, axs = plt.subplots(5, 5)\n",
    "axs = axs.flatten()\n",
    "rand_selection = rng.choice(size, 25)\n",
    "for i, datapoint in enumerate(dataset[rand_selection]):\n",
    "    axs[i].imshow(datapoint.reshape(templates.shape[1], templates.shape[2]), cmap = \"gray\", origin=\"lower\")\n",
    "plt.show()"
   ]
  },
  {
   "cell_type": "code",
   "execution_count": 5,
   "id": "136752da",
   "metadata": {},
   "outputs": [],
   "source": [
    "# Multivariate Gaussian PDF\n",
    "def mv_gaussian(\n",
    "        X: np.ndarray, \n",
    "        mean: np.ndarray, \n",
    "        cov: np.ndarray):\n",
    "    '''\n",
    "    Multivariate Gaussian probability density function.\n",
    "\n",
    "    Parameters\n",
    "    ----------\n",
    "    X : np.ndarray\n",
    "        Data points, shape (N, D).\n",
    "\n",
    "    mean : np.ndarray\n",
    "        Mean vector, shape (D,).\n",
    "        \n",
    "    cov : np.ndarray\n",
    "        Covariance matrix, shape (D, D).\n",
    "    \n",
    "    Returns\n",
    "    -------\n",
    "    P(X): np.ndarray\n",
    "        Probability density at each data point, shape (N,).\n",
    "    '''\n",
    "    D = X.shape[1]\n",
    "    diff = X - mean\n",
    "    inv_cov = np.linalg.inv(cov)\n",
    "    det_cov = np.linalg.det(cov)\n",
    "    norm_const = 1. / np.sqrt((2 * np.pi) ** D * det_cov)\n",
    "    exponent = -0.5 * np.sum(diff @ inv_cov * diff, axis=1)\n",
    "    return norm_const * np.exp(exponent)"
   ]
  },
  {
   "cell_type": "code",
   "execution_count": 6,
   "id": "7ea38ae9",
   "metadata": {},
   "outputs": [],
   "source": [
    "# E-M algorithm\n",
    "def run_em(\n",
    "        dataset: np.ndarray, \n",
    "        K: int, \n",
    "        max_iters: int = 10000, \n",
    "        tol: float = 1e-6):\n",
    "    '''\n",
    "    Run the Expectation-Maximization algorithm for Gaussian Mixture Models.\n",
    "\n",
    "    Parameters\n",
    "    ----------\n",
    "    dataset : np.ndarray\n",
    "        Input data, shape (N, D).\n",
    "    \n",
    "    K : int\n",
    "        Number of Gaussian components.\n",
    "\n",
    "    max_iters : int, optional\n",
    "        Maximum number of iterations, default is 10000.\n",
    "\n",
    "    tol : float, optional\n",
    "        Tolerance for convergence, default is 1e-6.\n",
    "\n",
    "    Returns\n",
    "    -------\n",
    "    pi : np.ndarray\n",
    "        Mixing coefficients, shape (K,).\n",
    "\n",
    "    mu : np.ndarray\n",
    "        Mean vectors, shape (K, D).\n",
    "\n",
    "    cov : np.ndarray\n",
    "        Covariance matrices, shape (K, D, D).\n",
    "\n",
    "    lls : np.ndarray\n",
    "        Log-likelihoods at each iteration, shape (iters,).\n",
    "    '''\n",
    "    N, D = dataset.shape\n",
    "    pi = np.ones(K) / K\n",
    "    mu = rng.random((K, D))\n",
    "    cov = np.repeat(np.eye(D)[np.newaxis], K, axis=0)\n",
    "\n",
    "    prev_ll = None\n",
    "    lls = np.zeros(max_iters)\n",
    "\n",
    "    for iteration in range(max_iters):\n",
    "        # E-step\n",
    "        pdfs = np.zeros((N, K))\n",
    "        for k in range(K):\n",
    "            pdfs[:, k] = mv_gaussian(dataset, mu[k], cov[k])\n",
    "        weighted_pdfs = pdfs * pi\n",
    "        resp = weighted_pdfs / np.sum(weighted_pdfs, axis=1, keepdims=True)\n",
    "\n",
    "        Nk = np.sum(resp, axis=0)\n",
    "\n",
    "        # M-step\n",
    "        pi = Nk / N\n",
    "        mu = (resp.T @ dataset) / Nk[:, None]\n",
    "        cov = np.zeros((K, D, D))\n",
    "        for k in range(K):\n",
    "            diff = dataset - mu[k]\n",
    "            cov[k] = (resp[:, k][:, None] * diff).T @ diff / Nk[k]\n",
    "\n",
    "        # Log-likelihood\n",
    "        ll = np.sum(np.log(np.sum(weighted_pdfs, axis=1)))\n",
    "        lls[iteration:] = ll\n",
    "        if prev_ll is not None and np.abs(ll - prev_ll) < tol:\n",
    "            print(f\"Convergence detected at iteration: {iteration+1}!\")\n",
    "            break\n",
    "        prev_ll = ll\n",
    "\n",
    "    return pi, mu, cov, lls[:iteration]"
   ]
  },
  {
   "cell_type": "code",
   "execution_count": 7,
   "id": "469f0801",
   "metadata": {},
   "outputs": [
    {
     "name": "stdout",
     "output_type": "stream",
     "text": [
      "Convergence detected at iteration: 429!\n",
      "Log Likelihood:\n"
     ]
    },
    {
     "data": {
      "image/png": "[encoded data removed]",
      "text/plain": [
       "<Figure size 640x480 with 1 Axes>"
      ]
     },
     "metadata": {},
     "output_type": "display_data"
    },
    {
     "name": "stdout",
     "output_type": "stream",
     "text": [
      "Estimated Templates:\n"
     ]
    },
    {
     "data": {
      "image/png": "[encoded data removed]",
      "text/plain": [
       "<Figure size 640x480 with 4 Axes>"
      ]
     },
     "metadata": {},
     "output_type": "display_data"
    }
   ],
   "source": [
    "# Set the number of templates to estimate\n",
    "K = 4\n",
    "\n",
    "# Run EM\n",
    "pi_est, mu_est, cov_est, lls = run_em(dataset, K=K)\n",
    "estimated_templates = mu_est.reshape(-1, 4, 4)\n",
    "\n",
    "print(\"Log Likelihood:\")\n",
    "# Plot the log likelihood of the data\n",
    "plt.plot(lls)\n",
    "plt.show()\n",
    "\n",
    "print(\"Estimated Templates:\")\n",
    "# Plot the estimated templates\n",
    "fig, axs = plt.subplots(1, K)\n",
    "for i, template in enumerate(estimated_templates):\n",
    "    axs[i].imshow(template, cmap = \"gray\", origin=\"lower\")\n",
    "plt.show()"
   ]
  },
  {
   "cell_type": "code",
   "execution_count": null,
   "id": "f3d76cd1",
   "metadata": {},
   "outputs": [],
   "source": []
  }
 ],
 "metadata": {
  "kernelspec": {
   "display_name": ".venv",
   "language": "python",
   "name": "python3"
  },
  "language_info": {
   "codemirror_mode": {
    "name": "ipython",
    "version": 3
   },
   "file_extension": ".py",
   "mimetype": "text/x-python",
   "name": "python",
   "nbconvert_exporter": "python",
   "pygments_lexer": "ipython3",
   "version": "3.12.3"
  }
 },
 "nbformat": 4,
 "nbformat_minor": 5
}
